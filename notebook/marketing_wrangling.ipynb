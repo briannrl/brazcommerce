{
 "cells": [
  {
   "cell_type": "code",
   "execution_count": 1,
   "id": "f1fffe9f",
   "metadata": {},
   "outputs": [],
   "source": [
    "import pandas  as pd\n",
    "import matplotlib.pyplot as plt\n",
    "import seaborn as sns\n",
    "import numpy as np"
   ]
  },
  {
   "cell_type": "code",
   "execution_count": 2,
   "id": "c442dc49",
   "metadata": {},
   "outputs": [],
   "source": [
    "#import raw data\n",
    "marketing_data = pd.read_excel(\"marketing_data.xlsx\")"
   ]
  },
  {
   "cell_type": "code",
   "execution_count": 3,
   "id": "593a4877",
   "metadata": {
    "scrolled": true
   },
   "outputs": [
    {
     "name": "stdout",
     "output_type": "stream",
     "text": [
      "<class 'pandas.core.frame.DataFrame'>\n",
      "RangeIndex: 2240 entries, 0 to 2239\n",
      "Data columns (total 18 columns):\n",
      " #   Column             Non-Null Count  Dtype \n",
      "---  ------             --------------  ----- \n",
      " 0   ID                 2240 non-null   int64 \n",
      " 1   Year_Birth         2240 non-null   int64 \n",
      " 2   Education          2240 non-null   object\n",
      " 3   Marital_Status     2240 non-null   object\n",
      " 4    Income            2216 non-null   object\n",
      " 5   Dt_Customer        2240 non-null   object\n",
      " 6   Recency            2240 non-null   int64 \n",
      " 7   MntWines           2240 non-null   int64 \n",
      " 8   MntFruits          2240 non-null   int64 \n",
      " 9   MntMeatProducts    2240 non-null   int64 \n",
      " 10  MntFishProducts    2240 non-null   int64 \n",
      " 11  NumWebPurchases    2240 non-null   int64 \n",
      " 12  NumWebVisitsMonth  2240 non-null   int64 \n",
      " 13  AcceptedCmp3       2240 non-null   int64 \n",
      " 14  AcceptedCmp4       2240 non-null   int64 \n",
      " 15  AcceptedCmp5       2240 non-null   int64 \n",
      " 16  AcceptedCmp1       2240 non-null   int64 \n",
      " 17  AcceptedCmp2       2240 non-null   int64 \n",
      "dtypes: int64(14), object(4)\n",
      "memory usage: 315.1+ KB\n"
     ]
    }
   ],
   "source": [
    "#check nilai null values\n",
    "marketing_data.info()"
   ]
  },
  {
   "cell_type": "code",
   "execution_count": 4,
   "id": "528c04a5",
   "metadata": {},
   "outputs": [],
   "source": [
    "#Mendefinisikan variabel Frequency dan Monetary\n",
    "marketing_data[\"Frequency\"] = marketing_data[\"NumWebPurchases\"]\n",
    "marketing_data[\"Monetary\"] = (marketing_data[\"MntFishProducts\"] + \n",
    "                              marketing_data[\"MntFruits\"] + \n",
    "                              marketing_data[\"MntMeatProducts\"] +marketing_data[\"MntWines\"])"
   ]
  },
  {
   "cell_type": "code",
   "execution_count": 5,
   "id": "eb2c3474",
   "metadata": {},
   "outputs": [],
   "source": [
    "#Memberi score pada Recency, Frequency, dan Monetary\n",
    "marketing_data[\"R\"] = pd.qcut(marketing_data[\"Recency\"],5,labels=[5,4,3,2,1])\n",
    "\n",
    "marketing_data[\"F\"] = pd.qcut(marketing_data[\"Frequency\"],5,labels=[1,2,3,4,5])\n",
    "\n",
    "marketing_data[\"M\"] = pd.qcut(marketing_data[\"Monetary\"],5,labels=[1,2,3,4,5])\n"
   ]
  },
  {
   "cell_type": "code",
   "execution_count": 6,
   "id": "b7cdb7f0",
   "metadata": {},
   "outputs": [],
   "source": [
    "#Membuat variabel string RFM\n",
    "marketing_data[\"RFM_Score\"] = marketing_data[\"R\"].astype(str) +marketing_data[\"F\"].astype(str) + marketing_data[\"M\"].astype(str)"
   ]
  },
  {
   "cell_type": "code",
   "execution_count": 14,
   "id": "87c2cb12",
   "metadata": {},
   "outputs": [],
   "source": [
    "#Segmentasi customer berdasarkan Recency dan Frequency\n",
    "seg_map = {\n",
    "    r'[1-2][1-2]': 'Hibernating',\n",
    "    r'[1-2][3-4]': 'At Risk',\n",
    "    r'[1-2]5': 'Can\\'t Loose',\n",
    "    r'3[1-2]': 'About to Sleep',\n",
    "    r'33': 'Need Attention',\n",
    "    r'[3-4][4-5]': 'Loyal Customers',\n",
    "    r'41': 'Promising',\n",
    "    r'51': 'New Customers',\n",
    "    r'[4-5][2-3]': 'Potential Loyalists',\n",
    "    r'5[4-5]': 'Champions'\n",
    "}\n",
    "\n",
    "\n",
    "marketing_data['Segment'] = marketing_data['R'].astype(str) + marketing_data['F'].astype(str)\n",
    "marketing_data['Segment'] = marketing_data['Segment'].replace(seg_map, regex=True)"
   ]
  },
  {
   "cell_type": "code",
   "execution_count": 15,
   "id": "d50104c0",
   "metadata": {
    "scrolled": true
   },
   "outputs": [],
   "source": [
    "#Membersihkan data Income, ubah menjadi float\n",
    "marketing_data[\"pendapatan\"] = (marketing_data[\" Income \"].replace( '[\\$,)]','', regex=True )\n",
    "               .replace( '[(]','-',   regex=True ).astype(float))"
   ]
  },
  {
   "cell_type": "code",
   "execution_count": 16,
   "id": "c80d19c5",
   "metadata": {},
   "outputs": [],
   "source": [
    "#Mengisi nilai null values pada Income dengan nilai median\n",
    "marketing_data[\"pendapatan\"] = marketing_data[\"pendapatan\"].fillna(marketing_data[\"pendapatan\"].median())"
   ]
  },
  {
   "cell_type": "code",
   "execution_count": 17,
   "id": "b8a0b9c0",
   "metadata": {},
   "outputs": [],
   "source": [
    "#Membuat grup usia\n",
    "marketing_data[\"age_group\"] = pd.cut(marketing_data[\"Year_Birth\"],\n",
    "                                                bins=[0, 1946, 1964, 1976, 1995, 2010],\n",
    "                                                labels=[\"Traditionalist\", \"Baby Boomers\", \"Gen X\", \"Millenials\", \"Gen Z\"])"
   ]
  },
  {
   "cell_type": "code",
   "execution_count": 18,
   "id": "764a1537",
   "metadata": {},
   "outputs": [],
   "source": [
    "#Membuat grup pendapatan\n",
    "marketing_data[\"income_group\"] = pd.qcut(marketing_data[\"pendapatan\"], q=3,\n",
    "                                        labels=[\"Lower Income\", \"Middle Income\", \"Upper Income\"])"
   ]
  },
  {
   "cell_type": "code",
   "execution_count": 19,
   "id": "3cb0e960",
   "metadata": {},
   "outputs": [],
   "source": [
    "#export data yang sudah siap diolah ke Tableau\n",
    "marketing_data.to_excel(\"marketing_data_clean.xlsx\", sheet_name=\"marketing_sheet\")"
   ]
  }
 ],
 "metadata": {
  "kernelspec": {
   "display_name": "Python 3 (ipykernel)",
   "language": "python",
   "name": "python3"
  },
  "language_info": {
   "codemirror_mode": {
    "name": "ipython",
    "version": 3
   },
   "file_extension": ".py",
   "mimetype": "text/x-python",
   "name": "python",
   "nbconvert_exporter": "python",
   "pygments_lexer": "ipython3",
   "version": "3.10.5"
  }
 },
 "nbformat": 4,
 "nbformat_minor": 5
}
